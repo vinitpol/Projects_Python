{
 "cells": [
  {
   "cell_type": "code",
   "execution_count": 37,
   "id": "eb1b89f3",
   "metadata": {},
   "outputs": [],
   "source": [
    "import pandas as pd\n",
    "import matplotlib.pyplot as plt\n",
    "import seaborn as sns"
   ]
  },
  {
   "cell_type": "code",
   "execution_count": 38,
   "id": "a25d6cce",
   "metadata": {},
   "outputs": [],
   "source": [
    "data = pd.read_csv('Mall_Customers.csv')"
   ]
  },
  {
   "cell_type": "code",
   "execution_count": 39,
   "id": "b9516824",
   "metadata": {},
   "outputs": [
    {
     "data": {
      "text/html": [
       "<div>\n",
       "<style scoped>\n",
       "    .dataframe tbody tr th:only-of-type {\n",
       "        vertical-align: middle;\n",
       "    }\n",
       "\n",
       "    .dataframe tbody tr th {\n",
       "        vertical-align: top;\n",
       "    }\n",
       "\n",
       "    .dataframe thead th {\n",
       "        text-align: right;\n",
       "    }\n",
       "</style>\n",
       "<table border=\"1\" class=\"dataframe\">\n",
       "  <thead>\n",
       "    <tr style=\"text-align: right;\">\n",
       "      <th></th>\n",
       "      <th>CustomerID</th>\n",
       "      <th>Gender</th>\n",
       "      <th>Age</th>\n",
       "      <th>Annual Income (k$)</th>\n",
       "      <th>Spending Score (1-100)</th>\n",
       "      <th>City</th>\n",
       "    </tr>\n",
       "  </thead>\n",
       "  <tbody>\n",
       "    <tr>\n",
       "      <th>0</th>\n",
       "      <td>1</td>\n",
       "      <td>Male</td>\n",
       "      <td>19</td>\n",
       "      <td>15</td>\n",
       "      <td>39.0</td>\n",
       "      <td>New York</td>\n",
       "    </tr>\n",
       "    <tr>\n",
       "      <th>1</th>\n",
       "      <td>2</td>\n",
       "      <td>Male</td>\n",
       "      <td>21</td>\n",
       "      <td>15</td>\n",
       "      <td>81.0</td>\n",
       "      <td>Seattle</td>\n",
       "    </tr>\n",
       "    <tr>\n",
       "      <th>2</th>\n",
       "      <td>3</td>\n",
       "      <td>Female</td>\n",
       "      <td>20</td>\n",
       "      <td>16</td>\n",
       "      <td>6.0</td>\n",
       "      <td>Los Angeles.</td>\n",
       "    </tr>\n",
       "    <tr>\n",
       "      <th>3</th>\n",
       "      <td>4</td>\n",
       "      <td>Female</td>\n",
       "      <td>23</td>\n",
       "      <td>16</td>\n",
       "      <td>77.0</td>\n",
       "      <td>Chicago.</td>\n",
       "    </tr>\n",
       "    <tr>\n",
       "      <th>4</th>\n",
       "      <td>5</td>\n",
       "      <td>Female</td>\n",
       "      <td>31</td>\n",
       "      <td>17</td>\n",
       "      <td>40.0</td>\n",
       "      <td>Houston.</td>\n",
       "    </tr>\n",
       "  </tbody>\n",
       "</table>\n",
       "</div>"
      ],
      "text/plain": [
       "   CustomerID  Gender  Age  Annual Income (k$)  Spending Score (1-100)  \\\n",
       "0           1    Male   19                  15                    39.0   \n",
       "1           2    Male   21                  15                    81.0   \n",
       "2           3  Female   20                  16                     6.0   \n",
       "3           4  Female   23                  16                    77.0   \n",
       "4           5  Female   31                  17                    40.0   \n",
       "\n",
       "           City  \n",
       "0      New York  \n",
       "1       Seattle  \n",
       "2  Los Angeles.  \n",
       "3      Chicago.  \n",
       "4      Houston.  "
      ]
     },
     "execution_count": 39,
     "metadata": {},
     "output_type": "execute_result"
    }
   ],
   "source": [
    "data.head()"
   ]
  },
  {
   "cell_type": "code",
   "execution_count": 40,
   "id": "ecea8092",
   "metadata": {
    "scrolled": true
   },
   "outputs": [
    {
     "name": "stdout",
     "output_type": "stream",
     "text": [
      "<class 'pandas.core.frame.DataFrame'>\n",
      "RangeIndex: 1180 entries, 0 to 1179\n",
      "Data columns (total 6 columns):\n",
      " #   Column                  Non-Null Count  Dtype  \n",
      "---  ------                  --------------  -----  \n",
      " 0   CustomerID              1180 non-null   int64  \n",
      " 1   Gender                  1180 non-null   object \n",
      " 2   Age                     1180 non-null   int64  \n",
      " 3   Annual Income (k$)      1180 non-null   int64  \n",
      " 4   Spending Score (1-100)  942 non-null    float64\n",
      " 5   City                    1180 non-null   object \n",
      "dtypes: float64(1), int64(3), object(2)\n",
      "memory usage: 55.4+ KB\n"
     ]
    }
   ],
   "source": [
    "data.info()"
   ]
  },
  {
   "cell_type": "code",
   "execution_count": 41,
   "id": "58751978",
   "metadata": {},
   "outputs": [
    {
     "data": {
      "text/html": [
       "<div>\n",
       "<style scoped>\n",
       "    .dataframe tbody tr th:only-of-type {\n",
       "        vertical-align: middle;\n",
       "    }\n",
       "\n",
       "    .dataframe tbody tr th {\n",
       "        vertical-align: top;\n",
       "    }\n",
       "\n",
       "    .dataframe thead th {\n",
       "        text-align: right;\n",
       "    }\n",
       "</style>\n",
       "<table border=\"1\" class=\"dataframe\">\n",
       "  <thead>\n",
       "    <tr style=\"text-align: right;\">\n",
       "      <th></th>\n",
       "      <th>CustomerID</th>\n",
       "      <th>Age</th>\n",
       "      <th>Annual Income (k$)</th>\n",
       "      <th>Spending Score (1-100)</th>\n",
       "    </tr>\n",
       "  </thead>\n",
       "  <tbody>\n",
       "    <tr>\n",
       "      <th>count</th>\n",
       "      <td>1180.000000</td>\n",
       "      <td>1180.000000</td>\n",
       "      <td>1180.000000</td>\n",
       "      <td>942.000000</td>\n",
       "    </tr>\n",
       "    <tr>\n",
       "      <th>mean</th>\n",
       "      <td>590.500000</td>\n",
       "      <td>37.718644</td>\n",
       "      <td>59.727119</td>\n",
       "      <td>50.152866</td>\n",
       "    </tr>\n",
       "    <tr>\n",
       "      <th>std</th>\n",
       "      <td>340.780966</td>\n",
       "      <td>12.703662</td>\n",
       "      <td>25.574620</td>\n",
       "      <td>25.255422</td>\n",
       "    </tr>\n",
       "    <tr>\n",
       "      <th>min</th>\n",
       "      <td>1.000000</td>\n",
       "      <td>18.000000</td>\n",
       "      <td>15.000000</td>\n",
       "      <td>1.000000</td>\n",
       "    </tr>\n",
       "    <tr>\n",
       "      <th>25%</th>\n",
       "      <td>295.750000</td>\n",
       "      <td>28.000000</td>\n",
       "      <td>40.000000</td>\n",
       "      <td>35.000000</td>\n",
       "    </tr>\n",
       "    <tr>\n",
       "      <th>50%</th>\n",
       "      <td>590.500000</td>\n",
       "      <td>36.000000</td>\n",
       "      <td>61.000000</td>\n",
       "      <td>50.000000</td>\n",
       "    </tr>\n",
       "    <tr>\n",
       "      <th>75%</th>\n",
       "      <td>885.250000</td>\n",
       "      <td>47.000000</td>\n",
       "      <td>77.000000</td>\n",
       "      <td>72.000000</td>\n",
       "    </tr>\n",
       "    <tr>\n",
       "      <th>max</th>\n",
       "      <td>1180.000000</td>\n",
       "      <td>70.000000</td>\n",
       "      <td>137.000000</td>\n",
       "      <td>99.000000</td>\n",
       "    </tr>\n",
       "  </tbody>\n",
       "</table>\n",
       "</div>"
      ],
      "text/plain": [
       "        CustomerID          Age  Annual Income (k$)  Spending Score (1-100)\n",
       "count  1180.000000  1180.000000         1180.000000              942.000000\n",
       "mean    590.500000    37.718644           59.727119               50.152866\n",
       "std     340.780966    12.703662           25.574620               25.255422\n",
       "min       1.000000    18.000000           15.000000                1.000000\n",
       "25%     295.750000    28.000000           40.000000               35.000000\n",
       "50%     590.500000    36.000000           61.000000               50.000000\n",
       "75%     885.250000    47.000000           77.000000               72.000000\n",
       "max    1180.000000    70.000000          137.000000               99.000000"
      ]
     },
     "execution_count": 41,
     "metadata": {},
     "output_type": "execute_result"
    }
   ],
   "source": [
    "data.describe()"
   ]
  },
  {
   "cell_type": "code",
   "execution_count": 42,
   "id": "f2f8678b",
   "metadata": {
    "scrolled": true
   },
   "outputs": [
    {
     "data": {
      "text/plain": [
       "(1180, 6)"
      ]
     },
     "execution_count": 42,
     "metadata": {},
     "output_type": "execute_result"
    }
   ],
   "source": [
    "data.shape"
   ]
  },
  {
   "cell_type": "code",
   "execution_count": 43,
   "id": "c3eebec4",
   "metadata": {},
   "outputs": [
    {
     "data": {
      "text/plain": [
       "CustomerID                  int64\n",
       "Gender                     object\n",
       "Age                         int64\n",
       "Annual Income (k$)          int64\n",
       "Spending Score (1-100)    float64\n",
       "City                       object\n",
       "dtype: object"
      ]
     },
     "execution_count": 43,
     "metadata": {},
     "output_type": "execute_result"
    }
   ],
   "source": [
    "data.dtypes"
   ]
  },
  {
   "cell_type": "code",
   "execution_count": 44,
   "id": "27ff77fd",
   "metadata": {},
   "outputs": [
    {
     "data": {
      "text/plain": [
       "Index(['CustomerID', 'Gender', 'Age', 'Annual Income (k$)',\n",
       "       'Spending Score (1-100)', 'City'],\n",
       "      dtype='object')"
      ]
     },
     "execution_count": 44,
     "metadata": {},
     "output_type": "execute_result"
    }
   ],
   "source": [
    "data.columns"
   ]
  },
  {
   "cell_type": "code",
   "execution_count": 45,
   "id": "36a52378",
   "metadata": {},
   "outputs": [
    {
     "name": "stdout",
     "output_type": "stream",
     "text": [
      "int64\n",
      "object\n",
      "int64\n",
      "int64\n",
      "float64\n",
      "object\n"
     ]
    }
   ],
   "source": [
    "for val in data.dtypes:\n",
    "    print (val)"
   ]
  },
  {
   "cell_type": "code",
   "execution_count": 46,
   "id": "f8bf2d56",
   "metadata": {},
   "outputs": [
    {
     "data": {
      "text/html": [
       "<div>\n",
       "<style scoped>\n",
       "    .dataframe tbody tr th:only-of-type {\n",
       "        vertical-align: middle;\n",
       "    }\n",
       "\n",
       "    .dataframe tbody tr th {\n",
       "        vertical-align: top;\n",
       "    }\n",
       "\n",
       "    .dataframe thead th {\n",
       "        text-align: right;\n",
       "    }\n",
       "</style>\n",
       "<table border=\"1\" class=\"dataframe\">\n",
       "  <thead>\n",
       "    <tr style=\"text-align: right;\">\n",
       "      <th></th>\n",
       "      <th>CustomerID</th>\n",
       "      <th>Gender</th>\n",
       "      <th>Age</th>\n",
       "      <th>Annual Income (k$)</th>\n",
       "      <th>Spending Score (1-100)</th>\n",
       "      <th>City</th>\n",
       "    </tr>\n",
       "  </thead>\n",
       "  <tbody>\n",
       "    <tr>\n",
       "      <th>941</th>\n",
       "      <td>942</td>\n",
       "      <td>Male</td>\n",
       "      <td>51</td>\n",
       "      <td>75</td>\n",
       "      <td>NaN</td>\n",
       "      <td>Philadelphia.</td>\n",
       "    </tr>\n",
       "    <tr>\n",
       "      <th>454</th>\n",
       "      <td>455</td>\n",
       "      <td>Female</td>\n",
       "      <td>30</td>\n",
       "      <td>43</td>\n",
       "      <td>90.0</td>\n",
       "      <td>Washington</td>\n",
       "    </tr>\n",
       "    <tr>\n",
       "      <th>23</th>\n",
       "      <td>24</td>\n",
       "      <td>Male</td>\n",
       "      <td>31</td>\n",
       "      <td>25</td>\n",
       "      <td>73.0</td>\n",
       "      <td>Philadelphia.</td>\n",
       "    </tr>\n",
       "    <tr>\n",
       "      <th>1030</th>\n",
       "      <td>1031</td>\n",
       "      <td>Male</td>\n",
       "      <td>28</td>\n",
       "      <td>30</td>\n",
       "      <td>NaN</td>\n",
       "      <td>Philadelphia.</td>\n",
       "    </tr>\n",
       "    <tr>\n",
       "      <th>747</th>\n",
       "      <td>748</td>\n",
       "      <td>Female</td>\n",
       "      <td>30</td>\n",
       "      <td>77</td>\n",
       "      <td>35.0</td>\n",
       "      <td>Chicago.</td>\n",
       "    </tr>\n",
       "  </tbody>\n",
       "</table>\n",
       "</div>"
      ],
      "text/plain": [
       "      CustomerID  Gender  Age  Annual Income (k$)  Spending Score (1-100)  \\\n",
       "941          942    Male   51                  75                     NaN   \n",
       "454          455  Female   30                  43                    90.0   \n",
       "23            24    Male   31                  25                    73.0   \n",
       "1030        1031    Male   28                  30                     NaN   \n",
       "747          748  Female   30                  77                    35.0   \n",
       "\n",
       "               City  \n",
       "941   Philadelphia.  \n",
       "454      Washington  \n",
       "23    Philadelphia.  \n",
       "1030  Philadelphia.  \n",
       "747        Chicago.  "
      ]
     },
     "execution_count": 46,
     "metadata": {},
     "output_type": "execute_result"
    }
   ],
   "source": [
    "data.sample(5)"
   ]
  },
  {
   "cell_type": "code",
   "execution_count": 61,
   "id": "ea21a728",
   "metadata": {},
   "outputs": [],
   "source": [
    "df = data.copy()"
   ]
  },
  {
   "cell_type": "code",
   "execution_count": 62,
   "id": "574398ca",
   "metadata": {},
   "outputs": [
    {
     "name": "stderr",
     "output_type": "stream",
     "text": [
      "C:\\Users\\vinit\\AppData\\Local\\Temp\\ipykernel_8936\\3698961737.py:1: FutureWarning: Dropping of nuisance columns in DataFrame reductions (with 'numeric_only=None') is deprecated; in a future version this will raise TypeError.  Select only valid columns before calling the reduction.\n",
      "  df.mean()\n"
     ]
    },
    {
     "data": {
      "text/plain": [
       "CustomerID                590.500000\n",
       "Age                        37.718644\n",
       "Annual Income (k$)         59.727119\n",
       "Spending Score (1-100)     50.152866\n",
       "dtype: float64"
      ]
     },
     "execution_count": 62,
     "metadata": {},
     "output_type": "execute_result"
    }
   ],
   "source": [
    "df.mean()"
   ]
  },
  {
   "cell_type": "code",
   "execution_count": 49,
   "id": "fd36ec79",
   "metadata": {},
   "outputs": [
    {
     "name": "stderr",
     "output_type": "stream",
     "text": [
      "C:\\Users\\vinit\\AppData\\Local\\Temp\\ipykernel_8936\\2681518468.py:1: FutureWarning: Dropping of nuisance columns in DataFrame reductions (with 'numeric_only=None') is deprecated; in a future version this will raise TypeError.  Select only valid columns before calling the reduction.\n",
      "  df.mean(axis=0)\n"
     ]
    },
    {
     "data": {
      "text/plain": [
       "CustomerID                590.500000\n",
       "Age                        37.718644\n",
       "Annual Income (k$)         59.727119\n",
       "Spending Score (1-100)     50.152866\n",
       "dtype: float64"
      ]
     },
     "execution_count": 49,
     "metadata": {},
     "output_type": "execute_result"
    }
   ],
   "source": [
    "df.mean(axis=0)"
   ]
  },
  {
   "cell_type": "code",
   "execution_count": 50,
   "id": "5a73807a",
   "metadata": {},
   "outputs": [
    {
     "name": "stderr",
     "output_type": "stream",
     "text": [
      "C:\\Users\\vinit\\AppData\\Local\\Temp\\ipykernel_8936\\2167959751.py:1: FutureWarning: Dropping of nuisance columns in DataFrame reductions (with 'numeric_only=None') is deprecated; in a future version this will raise TypeError.  Select only valid columns before calling the reduction.\n",
      "  df.mean(skipna=False)\n"
     ]
    },
    {
     "data": {
      "text/plain": [
       "CustomerID                590.500000\n",
       "Age                        37.718644\n",
       "Annual Income (k$)         59.727119\n",
       "Spending Score (1-100)           NaN\n",
       "dtype: float64"
      ]
     },
     "execution_count": 50,
     "metadata": {},
     "output_type": "execute_result"
    }
   ],
   "source": [
    "df.mean(skipna=False)"
   ]
  },
  {
   "cell_type": "code",
   "execution_count": 51,
   "id": "b60a3790",
   "metadata": {},
   "outputs": [
    {
     "data": {
      "text/html": [
       "<div>\n",
       "<style scoped>\n",
       "    .dataframe tbody tr th:only-of-type {\n",
       "        vertical-align: middle;\n",
       "    }\n",
       "\n",
       "    .dataframe tbody tr th {\n",
       "        vertical-align: top;\n",
       "    }\n",
       "\n",
       "    .dataframe thead th {\n",
       "        text-align: right;\n",
       "    }\n",
       "</style>\n",
       "<table border=\"1\" class=\"dataframe\">\n",
       "  <thead>\n",
       "    <tr style=\"text-align: right;\">\n",
       "      <th></th>\n",
       "      <th>CustomerID</th>\n",
       "      <th>Age</th>\n",
       "      <th>Annual Income (k$)</th>\n",
       "      <th>Spending Score (1-100)</th>\n",
       "    </tr>\n",
       "  </thead>\n",
       "  <tbody>\n",
       "    <tr>\n",
       "      <th>count</th>\n",
       "      <td>1180.000000</td>\n",
       "      <td>1180.000000</td>\n",
       "      <td>1180.000000</td>\n",
       "      <td>942.000000</td>\n",
       "    </tr>\n",
       "    <tr>\n",
       "      <th>mean</th>\n",
       "      <td>590.500000</td>\n",
       "      <td>37.718644</td>\n",
       "      <td>59.727119</td>\n",
       "      <td>50.152866</td>\n",
       "    </tr>\n",
       "    <tr>\n",
       "      <th>std</th>\n",
       "      <td>340.780966</td>\n",
       "      <td>12.703662</td>\n",
       "      <td>25.574620</td>\n",
       "      <td>25.255422</td>\n",
       "    </tr>\n",
       "    <tr>\n",
       "      <th>min</th>\n",
       "      <td>1.000000</td>\n",
       "      <td>18.000000</td>\n",
       "      <td>15.000000</td>\n",
       "      <td>1.000000</td>\n",
       "    </tr>\n",
       "    <tr>\n",
       "      <th>25%</th>\n",
       "      <td>295.750000</td>\n",
       "      <td>28.000000</td>\n",
       "      <td>40.000000</td>\n",
       "      <td>35.000000</td>\n",
       "    </tr>\n",
       "    <tr>\n",
       "      <th>50%</th>\n",
       "      <td>590.500000</td>\n",
       "      <td>36.000000</td>\n",
       "      <td>61.000000</td>\n",
       "      <td>50.000000</td>\n",
       "    </tr>\n",
       "    <tr>\n",
       "      <th>75%</th>\n",
       "      <td>885.250000</td>\n",
       "      <td>47.000000</td>\n",
       "      <td>77.000000</td>\n",
       "      <td>72.000000</td>\n",
       "    </tr>\n",
       "    <tr>\n",
       "      <th>max</th>\n",
       "      <td>1180.000000</td>\n",
       "      <td>70.000000</td>\n",
       "      <td>137.000000</td>\n",
       "      <td>99.000000</td>\n",
       "    </tr>\n",
       "  </tbody>\n",
       "</table>\n",
       "</div>"
      ],
      "text/plain": [
       "        CustomerID          Age  Annual Income (k$)  Spending Score (1-100)\n",
       "count  1180.000000  1180.000000         1180.000000              942.000000\n",
       "mean    590.500000    37.718644           59.727119               50.152866\n",
       "std     340.780966    12.703662           25.574620               25.255422\n",
       "min       1.000000    18.000000           15.000000                1.000000\n",
       "25%     295.750000    28.000000           40.000000               35.000000\n",
       "50%     590.500000    36.000000           61.000000               50.000000\n",
       "75%     885.250000    47.000000           77.000000               72.000000\n",
       "max    1180.000000    70.000000          137.000000               99.000000"
      ]
     },
     "execution_count": 51,
     "metadata": {},
     "output_type": "execute_result"
    }
   ],
   "source": [
    "df.describe()"
   ]
  },
  {
   "cell_type": "code",
   "execution_count": 52,
   "id": "bc0fa067",
   "metadata": {},
   "outputs": [
    {
     "data": {
      "text/plain": [
       "54     0.061017\n",
       "78     0.061017\n",
       "63     0.030508\n",
       "62     0.030508\n",
       "60     0.030508\n",
       "         ...   \n",
       "97     0.008475\n",
       "101    0.008475\n",
       "99     0.008475\n",
       "98     0.008475\n",
       "137    0.008475\n",
       "Name: Annual Income (k$), Length: 64, dtype: float64"
      ]
     },
     "execution_count": 52,
     "metadata": {},
     "output_type": "execute_result"
    }
   ],
   "source": [
    "df['Annual Income (k$)'].value_counts(normalize=True,dropna=False)"
   ]
  },
  {
   "cell_type": "code",
   "execution_count": 54,
   "id": "f4cddb63",
   "metadata": {},
   "outputs": [
    {
     "data": {
      "text/plain": [
       "0        15\n",
       "1001     15\n",
       "1000     15\n",
       "200      15\n",
       "201      15\n",
       "       ... \n",
       "598     137\n",
       "599     137\n",
       "198     137\n",
       "999     137\n",
       "998     137\n",
       "Name: Annual Income (k$), Length: 1180, dtype: int64"
      ]
     },
     "execution_count": 54,
     "metadata": {},
     "output_type": "execute_result"
    }
   ],
   "source": [
    "df['Annual Income (k$)'].sort_values()"
   ]
  },
  {
   "cell_type": "code",
   "execution_count": 22,
   "id": "37623d13",
   "metadata": {},
   "outputs": [
    {
     "data": {
      "text/plain": [
       "array(['New York', 'Seattle', 'Los Angeles.', 'Chicago.', 'Houston.',\n",
       "       'Phoenix.', 'Philadelphia.', 'San Antonio.', 'San Diego',\n",
       "       'Washington'], dtype=object)"
      ]
     },
     "execution_count": 22,
     "metadata": {},
     "output_type": "execute_result"
    }
   ],
   "source": [
    "df['City'].unique()"
   ]
  },
  {
   "cell_type": "code",
   "execution_count": 23,
   "id": "ba5d974b",
   "metadata": {},
   "outputs": [
    {
     "data": {
      "text/plain": [
       "array([19, 21, 20, 23, 31, 22, 35, 64, 30, 67, 58, 24, 37, 52, 25, 46, 54,\n",
       "       29, 45, 40, 60, 53, 18, 49, 42, 36, 65, 48, 50, 27, 33, 59, 47, 51,\n",
       "       69, 70, 63, 43, 68, 32, 26, 57, 38, 55, 34, 66, 39, 44, 28, 56, 41],\n",
       "      dtype=int64)"
      ]
     },
     "execution_count": 23,
     "metadata": {},
     "output_type": "execute_result"
    }
   ],
   "source": [
    "df['Age'].unique()"
   ]
  },
  {
   "cell_type": "code",
   "execution_count": 24,
   "id": "a6a3d3f5",
   "metadata": {},
   "outputs": [
    {
     "data": {
      "text/plain": [
       "array([ 15,  16,  17,  18,  19,  20,  21,  23,  24,  25,  28,  29,  30,\n",
       "        33,  34,  37,  38,  39,  40,  42,  43,  44,  46,  47,  48,  49,\n",
       "        50,  54,  57,  58,  59,  60,  61,  62,  63,  64,  65,  67,  69,\n",
       "        70,  71,  72,  73,  74,  75,  76,  77,  78,  79,  81,  85,  86,\n",
       "        87,  88,  93,  97,  98,  99, 101, 103, 113, 120, 126, 137],\n",
       "      dtype=int64)"
      ]
     },
     "execution_count": 24,
     "metadata": {},
     "output_type": "execute_result"
    }
   ],
   "source": [
    "df['Annual Income (k$)'].unique()"
   ]
  },
  {
   "cell_type": "code",
   "execution_count": 25,
   "id": "df1c7027",
   "metadata": {},
   "outputs": [
    {
     "data": {
      "text/plain": [
       "array(['Male', 'Female'], dtype=object)"
      ]
     },
     "execution_count": 25,
     "metadata": {},
     "output_type": "execute_result"
    }
   ],
   "source": [
    "df['Gender'].unique()"
   ]
  },
  {
   "cell_type": "code",
   "execution_count": 26,
   "id": "53d0b6f7",
   "metadata": {},
   "outputs": [
    {
     "data": {
      "text/plain": [
       "array([39., 81.,  6., 77., 40., 76., 94.,  3., 72., 14., 99., 15., 13.,\n",
       "       79., 35., 66., 29., 98., 73.,  5., 82., 32., 61., 31., 87.,  4.,\n",
       "       92., 17., 26., 75., 36., 28., 65., 55., 47., 42., 52., 60., 54.,\n",
       "       45., 41., 50., 46., 51., 56., 59., 48., 49., 53., 44., 57., 58.,\n",
       "       43., 91., 95., 11.,  9., 34., 71., 88.,  7., 10., 93., 12., 97.,\n",
       "       74., 22., 90., 20., 16., 89.,  1., 78., 83., 27., 63., 86., 69.,\n",
       "       24., 68., 85., 23.,  8., 18., nan])"
      ]
     },
     "execution_count": 26,
     "metadata": {},
     "output_type": "execute_result"
    }
   ],
   "source": [
    "df['Spending Score (1-100)'].unique()"
   ]
  },
  {
   "cell_type": "code",
   "execution_count": 27,
   "id": "edffb680",
   "metadata": {},
   "outputs": [
    {
     "data": {
      "text/plain": [
       "array([   1,    2,    3, ..., 1178, 1179, 1180], dtype=int64)"
      ]
     },
     "execution_count": 27,
     "metadata": {},
     "output_type": "execute_result"
    }
   ],
   "source": [
    "df['CustomerID'].unique()"
   ]
  },
  {
   "cell_type": "code",
   "execution_count": 28,
   "id": "7f559468",
   "metadata": {},
   "outputs": [],
   "source": [
    "# You are required to segement based on the users spending whether the particular customer \n",
    "# belongs to which group (General, Miser,Target,Careful,Spendthrift, Centroid)."
   ]
  },
  {
   "cell_type": "code",
   "execution_count": 59,
   "id": "a8804104",
   "metadata": {},
   "outputs": [
    {
     "name": "stdout",
     "output_type": "stream",
     "text": [
      "Miser\n",
      "Careful\n",
      "Careful\n",
      "Careful\n",
      "Careful\n",
      "Careful\n",
      "Careful\n",
      "Careful\n",
      "Careful\n",
      "Careful\n",
      "Careful\n",
      "Careful\n",
      "Careful\n",
      "General\n",
      "General\n",
      "General\n",
      "General\n",
      "General\n",
      "General\n",
      "General\n",
      "General\n",
      "General\n",
      "General\n",
      "General\n",
      "Target\n",
      "Target\n",
      "Target\n",
      "Target\n",
      "Target\n",
      "Target\n",
      "Target\n",
      "Target\n",
      "Target\n",
      "Target\n",
      "Target\n",
      "Centroid\n",
      "Centroid\n",
      "Centroid\n",
      "Centroid\n",
      "Centroid\n",
      "Centroid\n",
      "Centroid\n",
      "Centroid\n",
      "Centroid\n",
      "Centroid\n",
      "Centroid\n",
      "Centroid\n",
      "Centroid\n",
      "Centroid\n",
      "Spendthrift\n",
      "Spendthrift\n",
      "Spendthrift\n",
      "Spendthrift\n",
      "Spendthrift\n",
      "Spendthrift\n",
      "Spendthrift\n",
      "Spendthrift\n",
      "Spendthrift\n",
      "Spendthrift\n",
      "Spendthrift\n",
      "Spendthrift\n",
      "Spendthrift\n",
      "Spendthrift\n",
      "Spendthrift\n",
      "[15, 16, 17, 18, 19, 20, 21, 23, 24, 25, 28, 29, 30, 33, 34, 37, 38, 39, 40, 42, 43, 44, 46, 47, 48, 49, 50, 54, 57, 58, 59, 60, 61, 62, 63, 64, 65, 67, 69, 70, 71, 72, 73, 74, 75, 76, 77, 78, 79, 81, 85, 86, 87, 88, 93, 97, 98, 99, 101, 103, 113, 120, 126, 137]\n"
     ]
    }
   ],
   "source": [
    "lst = []\n",
    "val = []\n",
    "for i in first_dict:\n",
    "    if i < 16:\n",
    "        print ('Miser')\n",
    "    elif i < 32:\n",
    "        print ('Careful')\n",
    "    elif i < 48:\n",
    "        print ('General')\n",
    "    elif i < 64 :\n",
    "        print ('Target')\n",
    "    elif i < 80 :\n",
    "        print ('Centroid')\n",
    "    else :\n",
    "        print ('Spendthrift')\n",
    "    lst.append(i)\n",
    "    val.append(i)\n",
    "print (lst)"
   ]
  },
  {
   "cell_type": "code",
   "execution_count": 32,
   "id": "516e2b8b",
   "metadata": {},
   "outputs": [],
   "source": [
    "my = dict(zip(lst,df['Spending Score (1-100)']))"
   ]
  },
  {
   "cell_type": "code",
   "execution_count": 54,
   "id": "6a603698",
   "metadata": {},
   "outputs": [
    {
     "data": {
      "text/plain": [
       "[15,\n",
       " 16,\n",
       " 17,\n",
       " 18,\n",
       " 19,\n",
       " 20,\n",
       " 21,\n",
       " 23,\n",
       " 24,\n",
       " 25,\n",
       " 28,\n",
       " 29,\n",
       " 30,\n",
       " 33,\n",
       " 34,\n",
       " 37,\n",
       " 38,\n",
       " 39,\n",
       " 40,\n",
       " 42,\n",
       " 43,\n",
       " 44,\n",
       " 46,\n",
       " 47,\n",
       " 48,\n",
       " 49,\n",
       " 50,\n",
       " 54,\n",
       " 57,\n",
       " 58,\n",
       " 59,\n",
       " 60,\n",
       " 61,\n",
       " 62,\n",
       " 63,\n",
       " 64,\n",
       " 65,\n",
       " 67,\n",
       " 69,\n",
       " 70,\n",
       " 71,\n",
       " 72,\n",
       " 73,\n",
       " 74,\n",
       " 75,\n",
       " 76,\n",
       " 77,\n",
       " 78,\n",
       " 79,\n",
       " 81,\n",
       " 85,\n",
       " 86,\n",
       " 87,\n",
       " 88,\n",
       " 93,\n",
       " 97,\n",
       " 98,\n",
       " 99,\n",
       " 101,\n",
       " 103,\n",
       " 113,\n",
       " 120,\n",
       " 126,\n",
       " 137]"
      ]
     },
     "execution_count": 54,
     "metadata": {},
     "output_type": "execute_result"
    }
   ],
   "source": [
    "lst"
   ]
  },
  {
   "cell_type": "code",
   "execution_count": null,
   "id": "f7777ca3",
   "metadata": {},
   "outputs": [],
   "source": []
  },
  {
   "cell_type": "code",
   "execution_count": 34,
   "id": "a29a4648",
   "metadata": {},
   "outputs": [],
   "source": [
    "df1 = df['City']"
   ]
  },
  {
   "cell_type": "code",
   "execution_count": 35,
   "id": "001ea4f3",
   "metadata": {},
   "outputs": [
    {
     "name": "stdout",
     "output_type": "stream",
     "text": [
      "{'New York': 68, 'Seattle': 68, 'Los Angles': 68, 'Chicago': 68, 'Houston': 68, 'Phoenix': 68, 'Philadelphia': 68, 'San Antonio': 68, 'San Diego': 68, 'Washington': 68}\n"
     ]
    }
   ],
   "source": [
    "count = {'New York':0,'Seattle':0,'Los Angles':0,'Chicago':0,'Houston':0,'Phoenix':0,'Philadelphia':0,'San Antonio':0,'San Diego':0,'Washington':0}\n",
    "for i in df1:\n",
    "    if i == 'New York':\n",
    "        count['New York'] = count['New York'] +1\n",
    "        count['Seattle'] = count['Seattle'] +1\n",
    "        count['Los Angles'] = count['Los Angles'] +1\n",
    "        count['Chicago'] = count['Chicago'] +1\n",
    "        count['Houston'] = count['Houston'] +1\n",
    "        count['Phoenix'] = count['Phoenix'] +1\n",
    "        count['Philadelphia'] = count['Philadelphia'] +1\n",
    "        count['San Antonio'] = count['San Antonio'] +1\n",
    "        count['San Diego'] = count['San Diego'] +1\n",
    "        count['Washington'] = count['Washington'] +1\n",
    "        \n",
    "    else :\n",
    "        pass\n",
    "print (count)"
   ]
  },
  {
   "cell_type": "code",
   "execution_count": 36,
   "id": "d9bcebed",
   "metadata": {},
   "outputs": [
    {
     "data": {
      "text/plain": [
       "{'New York': 68,\n",
       " 'Seattle': 68,\n",
       " 'Los Angles': 68,\n",
       " 'Chicago': 68,\n",
       " 'Houston': 68,\n",
       " 'Phoenix': 68,\n",
       " 'Philadelphia': 68,\n",
       " 'San Antonio': 68,\n",
       " 'San Diego': 68,\n",
       " 'Washington': 68}"
      ]
     },
     "execution_count": 36,
     "metadata": {},
     "output_type": "execute_result"
    }
   ],
   "source": [
    "count"
   ]
  },
  {
   "cell_type": "code",
   "execution_count": 67,
   "id": "5e553119",
   "metadata": {},
   "outputs": [],
   "source": [
    "df.fillna(df['Spending Score (1-100)'].mean(),inplace=True)"
   ]
  },
  {
   "cell_type": "code",
   "execution_count": 72,
   "id": "8333361f",
   "metadata": {},
   "outputs": [
    {
     "data": {
      "text/plain": [
       "0       39\n",
       "1       81\n",
       "2        6\n",
       "3       77\n",
       "4       40\n",
       "        ..\n",
       "1175    73\n",
       "1176    10\n",
       "1177    72\n",
       "1178     5\n",
       "1179    93\n",
       "Name: Spending Score (1-100), Length: 1180, dtype: int32"
      ]
     },
     "execution_count": 72,
     "metadata": {},
     "output_type": "execute_result"
    }
   ],
   "source": [
    "df['Spending Score (1-100)'].astype('float').astype('int')"
   ]
  },
  {
   "cell_type": "code",
   "execution_count": 71,
   "id": "199f0aac",
   "metadata": {},
   "outputs": [
    {
     "data": {
      "text/html": [
       "<div>\n",
       "<style scoped>\n",
       "    .dataframe tbody tr th:only-of-type {\n",
       "        vertical-align: middle;\n",
       "    }\n",
       "\n",
       "    .dataframe tbody tr th {\n",
       "        vertical-align: top;\n",
       "    }\n",
       "\n",
       "    .dataframe thead th {\n",
       "        text-align: right;\n",
       "    }\n",
       "</style>\n",
       "<table border=\"1\" class=\"dataframe\">\n",
       "  <thead>\n",
       "    <tr style=\"text-align: right;\">\n",
       "      <th></th>\n",
       "      <th>CustomerID</th>\n",
       "      <th>Gender</th>\n",
       "      <th>Age</th>\n",
       "      <th>Annual Income (k$)</th>\n",
       "      <th>Spending Score (1-100)</th>\n",
       "      <th>City</th>\n",
       "    </tr>\n",
       "  </thead>\n",
       "  <tbody>\n",
       "    <tr>\n",
       "      <th>160</th>\n",
       "      <td>161</td>\n",
       "      <td>Female</td>\n",
       "      <td>56</td>\n",
       "      <td>79</td>\n",
       "      <td>35.000000</td>\n",
       "      <td>Chicago.</td>\n",
       "    </tr>\n",
       "    <tr>\n",
       "      <th>800</th>\n",
       "      <td>801</td>\n",
       "      <td>Male</td>\n",
       "      <td>30</td>\n",
       "      <td>15</td>\n",
       "      <td>40.000000</td>\n",
       "      <td>Phoenix.</td>\n",
       "    </tr>\n",
       "    <tr>\n",
       "      <th>1114</th>\n",
       "      <td>1115</td>\n",
       "      <td>Female</td>\n",
       "      <td>49</td>\n",
       "      <td>65</td>\n",
       "      <td>53.000000</td>\n",
       "      <td>Houston.</td>\n",
       "    </tr>\n",
       "    <tr>\n",
       "      <th>953</th>\n",
       "      <td>954</td>\n",
       "      <td>Female</td>\n",
       "      <td>19</td>\n",
       "      <td>78</td>\n",
       "      <td>50.152866</td>\n",
       "      <td>San Diego</td>\n",
       "    </tr>\n",
       "    <tr>\n",
       "      <th>1169</th>\n",
       "      <td>1170</td>\n",
       "      <td>Male</td>\n",
       "      <td>41</td>\n",
       "      <td>87</td>\n",
       "      <td>75.000000</td>\n",
       "      <td>Phoenix.</td>\n",
       "    </tr>\n",
       "    <tr>\n",
       "      <th>354</th>\n",
       "      <td>355</td>\n",
       "      <td>Female</td>\n",
       "      <td>53</td>\n",
       "      <td>78</td>\n",
       "      <td>42.000000</td>\n",
       "      <td>Houston.</td>\n",
       "    </tr>\n",
       "    <tr>\n",
       "      <th>617</th>\n",
       "      <td>618</td>\n",
       "      <td>Male</td>\n",
       "      <td>35</td>\n",
       "      <td>21</td>\n",
       "      <td>52.000000</td>\n",
       "      <td>Phoenix.</td>\n",
       "    </tr>\n",
       "    <tr>\n",
       "      <th>272</th>\n",
       "      <td>273</td>\n",
       "      <td>Female</td>\n",
       "      <td>29</td>\n",
       "      <td>50</td>\n",
       "      <td>50.152866</td>\n",
       "      <td>Los Angeles.</td>\n",
       "    </tr>\n",
       "    <tr>\n",
       "      <th>1031</th>\n",
       "      <td>1032</td>\n",
       "      <td>Female</td>\n",
       "      <td>48</td>\n",
       "      <td>30</td>\n",
       "      <td>50.152866</td>\n",
       "      <td>San Antonio.</td>\n",
       "    </tr>\n",
       "    <tr>\n",
       "      <th>973</th>\n",
       "      <td>974</td>\n",
       "      <td>Male</td>\n",
       "      <td>34</td>\n",
       "      <td>87</td>\n",
       "      <td>50.152866</td>\n",
       "      <td>Chicago.</td>\n",
       "    </tr>\n",
       "  </tbody>\n",
       "</table>\n",
       "</div>"
      ],
      "text/plain": [
       "      CustomerID  Gender  Age  Annual Income (k$)  Spending Score (1-100)  \\\n",
       "160          161  Female   56                  79               35.000000   \n",
       "800          801    Male   30                  15               40.000000   \n",
       "1114        1115  Female   49                  65               53.000000   \n",
       "953          954  Female   19                  78               50.152866   \n",
       "1169        1170    Male   41                  87               75.000000   \n",
       "354          355  Female   53                  78               42.000000   \n",
       "617          618    Male   35                  21               52.000000   \n",
       "272          273  Female   29                  50               50.152866   \n",
       "1031        1032  Female   48                  30               50.152866   \n",
       "973          974    Male   34                  87               50.152866   \n",
       "\n",
       "              City  \n",
       "160       Chicago.  \n",
       "800       Phoenix.  \n",
       "1114      Houston.  \n",
       "953      San Diego  \n",
       "1169      Phoenix.  \n",
       "354       Houston.  \n",
       "617       Phoenix.  \n",
       "272   Los Angeles.  \n",
       "1031  San Antonio.  \n",
       "973       Chicago.  "
      ]
     },
     "execution_count": 71,
     "metadata": {},
     "output_type": "execute_result"
    }
   ],
   "source": [
    "df.sample(10)"
   ]
  },
  {
   "cell_type": "code",
   "execution_count": 66,
   "id": "378e32c9",
   "metadata": {},
   "outputs": [
    {
     "name": "stdout",
     "output_type": "stream",
     "text": [
      "<class 'pandas.core.frame.DataFrame'>\n",
      "RangeIndex: 1180 entries, 0 to 1179\n",
      "Data columns (total 6 columns):\n",
      " #   Column                  Non-Null Count  Dtype  \n",
      "---  ------                  --------------  -----  \n",
      " 0   CustomerID              1180 non-null   int64  \n",
      " 1   Gender                  1180 non-null   object \n",
      " 2   Age                     1180 non-null   int64  \n",
      " 3   Annual Income (k$)      1180 non-null   int64  \n",
      " 4   Spending Score (1-100)  1180 non-null   float64\n",
      " 5   City                    1180 non-null   object \n",
      "dtypes: float64(1), int64(3), object(2)\n",
      "memory usage: 55.4+ KB\n"
     ]
    }
   ],
   "source": [
    "df.info()"
   ]
  },
  {
   "cell_type": "code",
   "execution_count": 74,
   "id": "81f28a46",
   "metadata": {},
   "outputs": [
    {
     "data": {
      "text/plain": [
       "0       39\n",
       "1       81\n",
       "2        6\n",
       "3       77\n",
       "4       40\n",
       "        ..\n",
       "1175    73\n",
       "1176    10\n",
       "1177    72\n",
       "1178     5\n",
       "1179    93\n",
       "Name: Spending Score (1-100), Length: 1180, dtype: int32"
      ]
     },
     "execution_count": 74,
     "metadata": {},
     "output_type": "execute_result"
    }
   ],
   "source": [
    "df['Spending Score (1-100)'].round(0).astype(int)"
   ]
  },
  {
   "cell_type": "code",
   "execution_count": 41,
   "id": "06359522",
   "metadata": {},
   "outputs": [
    {
     "name": "stdout",
     "output_type": "stream",
     "text": [
      "<class 'pandas.core.frame.DataFrame'>\n",
      "RangeIndex: 1180 entries, 0 to 1179\n",
      "Data columns (total 6 columns):\n",
      " #   Column                  Non-Null Count  Dtype  \n",
      "---  ------                  --------------  -----  \n",
      " 0   CustomerID              1180 non-null   int64  \n",
      " 1   Gender                  1180 non-null   object \n",
      " 2   Age                     1180 non-null   int64  \n",
      " 3   Annual Income (k$)      1180 non-null   int64  \n",
      " 4   Spending Score (1-100)  1180 non-null   float64\n",
      " 5   City                    1180 non-null   object \n",
      "dtypes: float64(1), int64(3), object(2)\n",
      "memory usage: 55.4+ KB\n"
     ]
    }
   ],
   "source": [
    "df.info()"
   ]
  },
  {
   "cell_type": "code",
   "execution_count": 42,
   "id": "669baf48",
   "metadata": {},
   "outputs": [
    {
     "data": {
      "text/plain": [
       "<seaborn.axisgrid.PairGrid at 0x2231925fc40>"
      ]
     },
     "execution_count": 42,
     "metadata": {},
     "output_type": "execute_result"
    },
    {
     "data": {
      "image/png": "[encoded data removed]",
      "text/plain": [
       "<Figure size 720x720 with 20 Axes>"
      ]
     },
     "metadata": {
      "needs_background": "light"
     },
     "output_type": "display_data"
    }
   ],
   "source": [
    "sns.pairplot(df)"
   ]
  },
  {
   "cell_type": "code",
   "execution_count": 43,
   "id": "3911da13",
   "metadata": {},
   "outputs": [],
   "source": [
    "spending = df['Spending Score (1-100)'].value_counts()"
   ]
  },
  {
   "cell_type": "code",
   "execution_count": 44,
   "id": "3bafdde4",
   "metadata": {},
   "outputs": [],
   "source": [
    "Ag = df['Age'].value_counts()"
   ]
  },
  {
   "cell_type": "code",
   "execution_count": 45,
   "id": "bcbfa0bd",
   "metadata": {},
   "outputs": [
    {
     "data": {
      "text/plain": [
       "<AxesSubplot:ylabel='Count'>"
      ]
     },
     "execution_count": 45,
     "metadata": {},
     "output_type": "execute_result"
    },
    {
     "data": {
      "image/png": "[encoded data removed]",
      "text/plain": [
       "<Figure size 432x288 with 1 Axes>"
      ]
     },
     "metadata": {
      "needs_background": "light"
     },
     "output_type": "display_data"
    }
   ],
   "source": [
    "sns.histplot(data=df)"
   ]
  },
  {
   "cell_type": "code",
   "execution_count": 46,
   "id": "9d5fac47",
   "metadata": {},
   "outputs": [
    {
     "data": {
      "text/plain": [
       "<AxesSubplot:xlabel='Spending Score (1-100)', ylabel='Count'>"
      ]
     },
     "execution_count": 46,
     "metadata": {},
     "output_type": "execute_result"
    },
    {
     "data": {
      "image/png": "[encoded data removed]",
      "text/plain": [
       "<Figure size 432x288 with 1 Axes>"
      ]
     },
     "metadata": {
      "needs_background": "light"
     },
     "output_type": "display_data"
    }
   ],
   "source": [
    "sns.histplot(data=spending , kde = True)"
   ]
  },
  {
   "cell_type": "code",
   "execution_count": 56,
   "id": "e7db1720",
   "metadata": {},
   "outputs": [],
   "source": [
    "first_dict = dict(zip(df['Annual Income (k$)'].unique(),df['Spending Score (1-100)'].unique()))"
   ]
  },
  {
   "cell_type": "code",
   "execution_count": 48,
   "id": "3f7d3ce1",
   "metadata": {},
   "outputs": [
    {
     "data": {
      "text/plain": [
       "0       39\n",
       "1       81\n",
       "2        6\n",
       "3       77\n",
       "4       40\n",
       "        ..\n",
       "1175    73\n",
       "1176    10\n",
       "1177    72\n",
       "1178     5\n",
       "1179    93\n",
       "Name: Spending Score (1-100), Length: 1180, dtype: int32"
      ]
     },
     "execution_count": 48,
     "metadata": {},
     "output_type": "execute_result"
    }
   ],
   "source": [
    "df['Spending Score (1-100)'].astype('float').astype('int')"
   ]
  },
  {
   "cell_type": "code",
   "execution_count": 49,
   "id": "0f31bc70",
   "metadata": {},
   "outputs": [
    {
     "data": {
      "text/plain": [
       "{15: 39.0,\n",
       " 16: 81.0,\n",
       " 17: 6.0,\n",
       " 18: 77.0,\n",
       " 19: 40.0,\n",
       " 20: 76.0,\n",
       " 21: 94.0,\n",
       " 23: 3.0,\n",
       " 24: 72.0,\n",
       " 25: 14.0,\n",
       " 28: 99.0,\n",
       " 29: 15.0,\n",
       " 30: 13.0,\n",
       " 33: 79.0,\n",
       " 34: 35.0,\n",
       " 37: 66.0,\n",
       " 38: 29.0,\n",
       " 39: 98.0,\n",
       " 40: 73.0,\n",
       " 42: 5.0,\n",
       " 43: 82.0,\n",
       " 44: 32.0,\n",
       " 46: 61.0,\n",
       " 47: 31.0,\n",
       " 48: 87.0,\n",
       " 49: 4.0,\n",
       " 50: 92.0,\n",
       " 54: 17.0,\n",
       " 57: 26.0,\n",
       " 58: 75.0,\n",
       " 59: 36.0,\n",
       " 60: 28.0,\n",
       " 61: 65.0,\n",
       " 62: 55.0,\n",
       " 63: 47.0,\n",
       " 64: 42.0,\n",
       " 65: 52.0,\n",
       " 67: 60.0,\n",
       " 69: 54.0,\n",
       " 70: 45.0,\n",
       " 71: 41.0,\n",
       " 72: 50.0,\n",
       " 73: 46.0,\n",
       " 74: 51.0,\n",
       " 75: 56.0,\n",
       " 76: 59.0,\n",
       " 77: 48.0,\n",
       " 78: 49.0,\n",
       " 79: 53.0,\n",
       " 81: 44.0,\n",
       " 85: 57.0,\n",
       " 86: 58.0,\n",
       " 87: 43.0,\n",
       " 88: 91.0,\n",
       " 93: 95.0,\n",
       " 97: 11.0,\n",
       " 98: 9.0,\n",
       " 99: 34.0,\n",
       " 101: 71.0,\n",
       " 103: 88.0,\n",
       " 113: 7.0,\n",
       " 120: 10.0,\n",
       " 126: 93.0,\n",
       " 137: 12.0}"
      ]
     },
     "execution_count": 49,
     "metadata": {},
     "output_type": "execute_result"
    }
   ],
   "source": [
    "first_dict"
   ]
  },
  {
   "cell_type": "code",
   "execution_count": 50,
   "id": "f8f27555",
   "metadata": {},
   "outputs": [
    {
     "ename": "AttributeError",
     "evalue": "'float' object has no attribute 'int'",
     "output_type": "error",
     "traceback": [
      "\u001b[1;31m---------------------------------------------------------------------------\u001b[0m",
      "\u001b[1;31mAttributeError\u001b[0m                            Traceback (most recent call last)",
      "Input \u001b[1;32mIn [50]\u001b[0m, in \u001b[0;36m<cell line: 1>\u001b[1;34m()\u001b[0m\n\u001b[1;32m----> 1\u001b[0m \u001b[43mdf\u001b[49m\u001b[43m[\u001b[49m\u001b[38;5;124;43m'\u001b[39;49m\u001b[38;5;124;43mSpending Score (1-100)\u001b[39;49m\u001b[38;5;124;43m'\u001b[39;49m\u001b[43m]\u001b[49m\u001b[38;5;241;43m.\u001b[39;49m\u001b[43mapply\u001b[49m\u001b[43m(\u001b[49m\u001b[38;5;28;43;01mlambda\u001b[39;49;00m\u001b[43m \u001b[49m\u001b[43mx\u001b[49m\u001b[43m:\u001b[49m\u001b[43m \u001b[49m\u001b[43mx\u001b[49m\u001b[38;5;241;43m.\u001b[39;49m\u001b[43mint\u001b[49m\u001b[38;5;241;43m.\u001b[39;49m\u001b[43mstrip\u001b[49m\u001b[43m(\u001b[49m\u001b[43m)\u001b[49m\u001b[43m)\u001b[49m\u001b[38;5;241m.\u001b[39mreplace(\u001b[38;5;124m'\u001b[39m\u001b[38;5;124m'\u001b[39m, np\u001b[38;5;241m.\u001b[39mnan)\n",
      "File \u001b[1;32m~\\AppData\\Local\\Programs\\Python\\Python310\\lib\\site-packages\\pandas\\core\\series.py:4433\u001b[0m, in \u001b[0;36mSeries.apply\u001b[1;34m(self, func, convert_dtype, args, **kwargs)\u001b[0m\n\u001b[0;32m   4323\u001b[0m \u001b[38;5;28;01mdef\u001b[39;00m \u001b[38;5;21mapply\u001b[39m(\n\u001b[0;32m   4324\u001b[0m     \u001b[38;5;28mself\u001b[39m,\n\u001b[0;32m   4325\u001b[0m     func: AggFuncType,\n\u001b[1;32m   (...)\u001b[0m\n\u001b[0;32m   4328\u001b[0m     \u001b[38;5;241m*\u001b[39m\u001b[38;5;241m*\u001b[39mkwargs,\n\u001b[0;32m   4329\u001b[0m ) \u001b[38;5;241m-\u001b[39m\u001b[38;5;241m>\u001b[39m DataFrame \u001b[38;5;241m|\u001b[39m Series:\n\u001b[0;32m   4330\u001b[0m     \u001b[38;5;124;03m\"\"\"\u001b[39;00m\n\u001b[0;32m   4331\u001b[0m \u001b[38;5;124;03m    Invoke function on values of Series.\u001b[39;00m\n\u001b[0;32m   4332\u001b[0m \n\u001b[1;32m   (...)\u001b[0m\n\u001b[0;32m   4431\u001b[0m \u001b[38;5;124;03m    dtype: float64\u001b[39;00m\n\u001b[0;32m   4432\u001b[0m \u001b[38;5;124;03m    \"\"\"\u001b[39;00m\n\u001b[1;32m-> 4433\u001b[0m     \u001b[38;5;28;01mreturn\u001b[39;00m \u001b[43mSeriesApply\u001b[49m\u001b[43m(\u001b[49m\u001b[38;5;28;43mself\u001b[39;49m\u001b[43m,\u001b[49m\u001b[43m \u001b[49m\u001b[43mfunc\u001b[49m\u001b[43m,\u001b[49m\u001b[43m \u001b[49m\u001b[43mconvert_dtype\u001b[49m\u001b[43m,\u001b[49m\u001b[43m \u001b[49m\u001b[43margs\u001b[49m\u001b[43m,\u001b[49m\u001b[43m \u001b[49m\u001b[43mkwargs\u001b[49m\u001b[43m)\u001b[49m\u001b[38;5;241;43m.\u001b[39;49m\u001b[43mapply\u001b[49m\u001b[43m(\u001b[49m\u001b[43m)\u001b[49m\n",
      "File \u001b[1;32m~\\AppData\\Local\\Programs\\Python\\Python310\\lib\\site-packages\\pandas\\core\\apply.py:1082\u001b[0m, in \u001b[0;36mSeriesApply.apply\u001b[1;34m(self)\u001b[0m\n\u001b[0;32m   1078\u001b[0m \u001b[38;5;28;01mif\u001b[39;00m \u001b[38;5;28misinstance\u001b[39m(\u001b[38;5;28mself\u001b[39m\u001b[38;5;241m.\u001b[39mf, \u001b[38;5;28mstr\u001b[39m):\n\u001b[0;32m   1079\u001b[0m     \u001b[38;5;66;03m# if we are a string, try to dispatch\u001b[39;00m\n\u001b[0;32m   1080\u001b[0m     \u001b[38;5;28;01mreturn\u001b[39;00m \u001b[38;5;28mself\u001b[39m\u001b[38;5;241m.\u001b[39mapply_str()\n\u001b[1;32m-> 1082\u001b[0m \u001b[38;5;28;01mreturn\u001b[39;00m \u001b[38;5;28;43mself\u001b[39;49m\u001b[38;5;241;43m.\u001b[39;49m\u001b[43mapply_standard\u001b[49m\u001b[43m(\u001b[49m\u001b[43m)\u001b[49m\n",
      "File \u001b[1;32m~\\AppData\\Local\\Programs\\Python\\Python310\\lib\\site-packages\\pandas\\core\\apply.py:1137\u001b[0m, in \u001b[0;36mSeriesApply.apply_standard\u001b[1;34m(self)\u001b[0m\n\u001b[0;32m   1131\u001b[0m         values \u001b[38;5;241m=\u001b[39m obj\u001b[38;5;241m.\u001b[39mastype(\u001b[38;5;28mobject\u001b[39m)\u001b[38;5;241m.\u001b[39m_values\n\u001b[0;32m   1132\u001b[0m         \u001b[38;5;66;03m# error: Argument 2 to \"map_infer\" has incompatible type\u001b[39;00m\n\u001b[0;32m   1133\u001b[0m         \u001b[38;5;66;03m# \"Union[Callable[..., Any], str, List[Union[Callable[..., Any], str]],\u001b[39;00m\n\u001b[0;32m   1134\u001b[0m         \u001b[38;5;66;03m# Dict[Hashable, Union[Union[Callable[..., Any], str],\u001b[39;00m\n\u001b[0;32m   1135\u001b[0m         \u001b[38;5;66;03m# List[Union[Callable[..., Any], str]]]]]\"; expected\u001b[39;00m\n\u001b[0;32m   1136\u001b[0m         \u001b[38;5;66;03m# \"Callable[[Any], Any]\"\u001b[39;00m\n\u001b[1;32m-> 1137\u001b[0m         mapped \u001b[38;5;241m=\u001b[39m \u001b[43mlib\u001b[49m\u001b[38;5;241;43m.\u001b[39;49m\u001b[43mmap_infer\u001b[49m\u001b[43m(\u001b[49m\n\u001b[0;32m   1138\u001b[0m \u001b[43m            \u001b[49m\u001b[43mvalues\u001b[49m\u001b[43m,\u001b[49m\n\u001b[0;32m   1139\u001b[0m \u001b[43m            \u001b[49m\u001b[43mf\u001b[49m\u001b[43m,\u001b[49m\u001b[43m  \u001b[49m\u001b[38;5;66;43;03m# type: ignore[arg-type]\u001b[39;49;00m\n\u001b[0;32m   1140\u001b[0m \u001b[43m            \u001b[49m\u001b[43mconvert\u001b[49m\u001b[38;5;241;43m=\u001b[39;49m\u001b[38;5;28;43mself\u001b[39;49m\u001b[38;5;241;43m.\u001b[39;49m\u001b[43mconvert_dtype\u001b[49m\u001b[43m,\u001b[49m\n\u001b[0;32m   1141\u001b[0m \u001b[43m        \u001b[49m\u001b[43m)\u001b[49m\n\u001b[0;32m   1143\u001b[0m \u001b[38;5;28;01mif\u001b[39;00m \u001b[38;5;28mlen\u001b[39m(mapped) \u001b[38;5;129;01mand\u001b[39;00m \u001b[38;5;28misinstance\u001b[39m(mapped[\u001b[38;5;241m0\u001b[39m], ABCSeries):\n\u001b[0;32m   1144\u001b[0m     \u001b[38;5;66;03m# GH#43986 Need to do list(mapped) in order to get treated as nested\u001b[39;00m\n\u001b[0;32m   1145\u001b[0m     \u001b[38;5;66;03m#  See also GH#25959 regarding EA support\u001b[39;00m\n\u001b[0;32m   1146\u001b[0m     \u001b[38;5;28;01mreturn\u001b[39;00m obj\u001b[38;5;241m.\u001b[39m_constructor_expanddim(\u001b[38;5;28mlist\u001b[39m(mapped), index\u001b[38;5;241m=\u001b[39mobj\u001b[38;5;241m.\u001b[39mindex)\n",
      "File \u001b[1;32m~\\AppData\\Local\\Programs\\Python\\Python310\\lib\\site-packages\\pandas\\_libs\\lib.pyx:2870\u001b[0m, in \u001b[0;36mpandas._libs.lib.map_infer\u001b[1;34m()\u001b[0m\n",
      "Input \u001b[1;32mIn [50]\u001b[0m, in \u001b[0;36m<lambda>\u001b[1;34m(x)\u001b[0m\n\u001b[1;32m----> 1\u001b[0m df[\u001b[38;5;124m'\u001b[39m\u001b[38;5;124mSpending Score (1-100)\u001b[39m\u001b[38;5;124m'\u001b[39m]\u001b[38;5;241m.\u001b[39mapply(\u001b[38;5;28;01mlambda\u001b[39;00m x: \u001b[43mx\u001b[49m\u001b[38;5;241;43m.\u001b[39;49m\u001b[43mint\u001b[49m\u001b[38;5;241m.\u001b[39mstrip())\u001b[38;5;241m.\u001b[39mreplace(\u001b[38;5;124m'\u001b[39m\u001b[38;5;124m'\u001b[39m, np\u001b[38;5;241m.\u001b[39mnan)\n",
      "\u001b[1;31mAttributeError\u001b[0m: 'float' object has no attribute 'int'"
     ]
    }
   ],
   "source": [
    "df['Spending Score (1-100)'].apply(lambda x: x.int.strip()).replace('', np.nan)"
   ]
  },
  {
   "cell_type": "code",
   "execution_count": 16,
   "id": "dde42cb5",
   "metadata": {},
   "outputs": [],
   "source": [
    "x = df['Annual Income (k$)']"
   ]
  },
  {
   "cell_type": "code",
   "execution_count": 36,
   "id": "28a6ef47",
   "metadata": {},
   "outputs": [],
   "source": [
    "y = df ['Spending Score (1-100)']"
   ]
  },
  {
   "cell_type": "code",
   "execution_count": null,
   "id": "35f12b54",
   "metadata": {},
   "outputs": [],
   "source": []
  },
  {
   "cell_type": "code",
   "execution_count": 18,
   "id": "a9fed288",
   "metadata": {},
   "outputs": [
    {
     "name": "stdout",
     "output_type": "stream",
     "text": [
      "<class 'pandas.core.frame.DataFrame'>\n",
      "RangeIndex: 1180 entries, 0 to 1179\n",
      "Data columns (total 6 columns):\n",
      " #   Column                  Non-Null Count  Dtype  \n",
      "---  ------                  --------------  -----  \n",
      " 0   CustomerID              1180 non-null   int64  \n",
      " 1   Gender                  1180 non-null   object \n",
      " 2   Age                     1180 non-null   int64  \n",
      " 3   Annual Income (k$)      1180 non-null   int64  \n",
      " 4   Spending Score (1-100)  942 non-null    float64\n",
      " 5   City                    1180 non-null   object \n",
      "dtypes: float64(1), int64(3), object(2)\n",
      "memory usage: 55.4+ KB\n"
     ]
    }
   ],
   "source": [
    "df.info()"
   ]
  },
  {
   "cell_type": "code",
   "execution_count": 19,
   "id": "0faf47c7",
   "metadata": {},
   "outputs": [
    {
     "data": {
      "text/plain": [
       "Index(['CustomerID', 'Gender', 'Age', 'Annual Income (k$)',\n",
       "       'Spending Score (1-100)', 'City'],\n",
       "      dtype='object')"
      ]
     },
     "execution_count": 19,
     "metadata": {},
     "output_type": "execute_result"
    }
   ],
   "source": [
    "df.columns"
   ]
  },
  {
   "cell_type": "code",
   "execution_count": 20,
   "id": "7c323502",
   "metadata": {},
   "outputs": [],
   "source": [
    "from sklearn.linear_model import LinearRegression"
   ]
  },
  {
   "cell_type": "code",
   "execution_count": 21,
   "id": "88fda3e9",
   "metadata": {},
   "outputs": [],
   "source": [
    "from sklearn.model_selection import train_test_split"
   ]
  },
  {
   "cell_type": "code",
   "execution_count": 22,
   "id": "8c83c018",
   "metadata": {},
   "outputs": [],
   "source": [
    "x_train,x_test,y_train,y_test = train_test_split(x,y,test_size=0.3)"
   ]
  },
  {
   "cell_type": "code",
   "execution_count": 30,
   "id": "58c15c6a",
   "metadata": {},
   "outputs": [
    {
     "data": {
      "text/plain": [
       "826"
      ]
     },
     "execution_count": 30,
     "metadata": {},
     "output_type": "execute_result"
    }
   ],
   "source": [
    "x_train.count()"
   ]
  },
  {
   "cell_type": "code",
   "execution_count": 24,
   "id": "fdfc01b1",
   "metadata": {},
   "outputs": [
    {
     "data": {
      "text/plain": [
       "354"
      ]
     },
     "execution_count": 24,
     "metadata": {},
     "output_type": "execute_result"
    }
   ],
   "source": [
    "x_test.count()"
   ]
  },
  {
   "cell_type": "code",
   "execution_count": 25,
   "id": "b082e389",
   "metadata": {},
   "outputs": [
    {
     "data": {
      "text/plain": [
       "646"
      ]
     },
     "execution_count": 25,
     "metadata": {},
     "output_type": "execute_result"
    }
   ],
   "source": [
    "y_train.count()"
   ]
  },
  {
   "cell_type": "code",
   "execution_count": 26,
   "id": "2128e244",
   "metadata": {},
   "outputs": [
    {
     "data": {
      "text/plain": [
       "296"
      ]
     },
     "execution_count": 26,
     "metadata": {},
     "output_type": "execute_result"
    }
   ],
   "source": [
    "y_test.count()"
   ]
  },
  {
   "cell_type": "code",
   "execution_count": 27,
   "id": "47c9d01a",
   "metadata": {},
   "outputs": [],
   "source": [
    "model = LinearRegression()"
   ]
  },
  {
   "cell_type": "code",
   "execution_count": 28,
   "id": "0d521673",
   "metadata": {},
   "outputs": [
    {
     "ename": "ValueError",
     "evalue": "Expected 2D array, got 1D array instead:\narray=[ 62  37  67  87  30  65 103  42  99  60  58  38  39  23  30  58  63  40\n  54  54  43  69  62  54  39  74  63  25  67  78  77  54  46  54  16  19\n  81  29  23  28  76  40  86  16 103  63  18  20  54  19  87  71  21  62\n  71  44  99 113  97  46  47  37  24  49  43  63  70  87  65  20  49  60\n  78 137  93  61  60  59  34  33  81  60  78  78  19  87  79  19  77  62\n  85  25  44  73  21  25  17  77  38  24  15  85  54  43  65  33  60 103\n  78  93  60  33  87  71  46  62  37  47  30  77  67  43  81  88  63  65\n  54  70  65  57  88  54  98  72  63  28  62  63  87  74  64  62 113  20\n  71  20  19  77  60  20  69 103  76  57  78 126  63  87  62  57  77  87\n  30  60  21  19  88  40  75  39  48  78  37  46  40  78  73 120  28  60\n  85  60  65  97  72 101  63  54  64 120  87  20  30  50  87  19  25  54\n  61 137  54  46  69  48  57  77  73  39  25  44  54  19  71 103  63  54\n  54  60  46  88  57  67  28  60  76  74  57  58  73  63  69  46  59  78\n  28  49  20  63  43  50  74  69  38  71  62  44  33  39  97  18  38  75\n 126  47  73  42  28  42  60  87  60  62  38  73  78  65 137  59  16  70\n  72 113  47  77  71  78  46  18  86  65  38  58  71  38  34  63  79  93\n  23  21  48  78  78  48  50  17  62  42  63  54  60  48  54  54  75  20\n  87  98  37  64  33  19 113  60  87 103  69  74 113 113  64  33  23  40\n  65  23  33  65  40  40  48  30  99  86  67  40 137  76  42  15  81  19\n  60  97  77 101  18  73  47  48  62  33  54  43  88  76  49  29 126  40\n  28  54  46  19  71  17 137  70  65  47  44  42  58  18  78  48  28  71\n  75  71  63  62  78 103  15  37  88  33  16  21  97  40  46  70  67  18\n  21  87  78  78  54  65  93  18  78  39  43  34  28  62  46  77  20  33\n  77  60  78  78  98  59  71  46  54  47  62  86  17  78  64  71  78 103\n  19  48  48  34  78  76  71  25  57  61  64  62  73  29  33  58  64  78\n  60  54  21  60  48  59  97  86  20  62  33  43  19  33  34  25  88  34\n  43  62 101  78  63  38 103  65  44  78  28  54  65  71  48  58  70  20\n  78  54  74  67  15  29  44  25  63  54  58 120  65  93  28  98  50 101\n  24  63  78  62  46 103  59  78  99  49  88  71  57  40  21  78  15  65\n  97  19  73  23  43  78  40  43  54  57  34  67  24  54  72  39  48  38\n 103  76  60  25  39  78 137  87  69  58  93  28  85  63  85  16  20  16\n  38  16  48  93  49  78  78  87  40  50  71  37  79  21  65  87  88  39\n  29  93  19  88  67  28  70  85  54  63  42  71  43  78  46  67  78  98\n  77  54  46  67  54  64  39  61  78  88  47  78  87  48  57  78  78  28\n  81  77  19  25  88  25  54  16  78  29  65  87  78  62  86  62  54  62\n  77  63  62  54  49  76  60  65  33  73  93  18  54  78  54  88 120  78\n  23  23  60  87  62  97  50  33  50  17  39  44  19  29  33  60  43  25\n  60  33  37  39  54  67  71  86  78  39  39  78  60  48  88  71  65  54\n  73  15  16 103  24  48  78  33  72  87  79  20  54  67  77  70  78  29\n  54  50 103  49  85  63  28  79  34  17  21  19  30  18  63  60  60  62\n 126  17  43  73  87  59  73  78  44  79  43  67  20  87  39 113  77  21\n  49  39  33  54  20  50  79  74  17  38  61  81  28  43  78  62  30  60\n  75 103  59  48  59  75  39  43  40  72  29  93  46  30  46  88  98  72\n  88  18  54  77  78  37  48  85  99  23  24  48 103  73  78  67  54  43\n  43 103  71  87  62  54  48  48  15  44  77  65  60  78  20  71  46  33\n  48  85  73  24  54  99  59  28  73  71  23  86 120  67  88  75].\nReshape your data either using array.reshape(-1, 1) if your data has a single feature or array.reshape(1, -1) if it contains a single sample.",
     "output_type": "error",
     "traceback": [
      "\u001b[1;31m---------------------------------------------------------------------------\u001b[0m",
      "\u001b[1;31mValueError\u001b[0m                                Traceback (most recent call last)",
      "Input \u001b[1;32mIn [28]\u001b[0m, in \u001b[0;36m<cell line: 1>\u001b[1;34m()\u001b[0m\n\u001b[1;32m----> 1\u001b[0m \u001b[43mmodel\u001b[49m\u001b[38;5;241;43m.\u001b[39;49m\u001b[43mfit\u001b[49m\u001b[43m(\u001b[49m\u001b[43mx_train\u001b[49m\u001b[43m,\u001b[49m\u001b[43my_train\u001b[49m\u001b[43m)\u001b[49m\n",
      "File \u001b[1;32m~\\AppData\\Local\\Programs\\Python\\Python310\\lib\\site-packages\\sklearn\\linear_model\\_base.py:662\u001b[0m, in \u001b[0;36mLinearRegression.fit\u001b[1;34m(self, X, y, sample_weight)\u001b[0m\n\u001b[0;32m    658\u001b[0m n_jobs_ \u001b[38;5;241m=\u001b[39m \u001b[38;5;28mself\u001b[39m\u001b[38;5;241m.\u001b[39mn_jobs\n\u001b[0;32m    660\u001b[0m accept_sparse \u001b[38;5;241m=\u001b[39m \u001b[38;5;28;01mFalse\u001b[39;00m \u001b[38;5;28;01mif\u001b[39;00m \u001b[38;5;28mself\u001b[39m\u001b[38;5;241m.\u001b[39mpositive \u001b[38;5;28;01melse\u001b[39;00m [\u001b[38;5;124m\"\u001b[39m\u001b[38;5;124mcsr\u001b[39m\u001b[38;5;124m\"\u001b[39m, \u001b[38;5;124m\"\u001b[39m\u001b[38;5;124mcsc\u001b[39m\u001b[38;5;124m\"\u001b[39m, \u001b[38;5;124m\"\u001b[39m\u001b[38;5;124mcoo\u001b[39m\u001b[38;5;124m\"\u001b[39m]\n\u001b[1;32m--> 662\u001b[0m X, y \u001b[38;5;241m=\u001b[39m \u001b[38;5;28;43mself\u001b[39;49m\u001b[38;5;241;43m.\u001b[39;49m\u001b[43m_validate_data\u001b[49m\u001b[43m(\u001b[49m\n\u001b[0;32m    663\u001b[0m \u001b[43m    \u001b[49m\u001b[43mX\u001b[49m\u001b[43m,\u001b[49m\u001b[43m \u001b[49m\u001b[43my\u001b[49m\u001b[43m,\u001b[49m\u001b[43m \u001b[49m\u001b[43maccept_sparse\u001b[49m\u001b[38;5;241;43m=\u001b[39;49m\u001b[43maccept_sparse\u001b[49m\u001b[43m,\u001b[49m\u001b[43m \u001b[49m\u001b[43my_numeric\u001b[49m\u001b[38;5;241;43m=\u001b[39;49m\u001b[38;5;28;43;01mTrue\u001b[39;49;00m\u001b[43m,\u001b[49m\u001b[43m \u001b[49m\u001b[43mmulti_output\u001b[49m\u001b[38;5;241;43m=\u001b[39;49m\u001b[38;5;28;43;01mTrue\u001b[39;49;00m\n\u001b[0;32m    664\u001b[0m \u001b[43m\u001b[49m\u001b[43m)\u001b[49m\n\u001b[0;32m    666\u001b[0m \u001b[38;5;28;01mif\u001b[39;00m sample_weight \u001b[38;5;129;01mis\u001b[39;00m \u001b[38;5;129;01mnot\u001b[39;00m \u001b[38;5;28;01mNone\u001b[39;00m:\n\u001b[0;32m    667\u001b[0m     sample_weight \u001b[38;5;241m=\u001b[39m _check_sample_weight(sample_weight, X, dtype\u001b[38;5;241m=\u001b[39mX\u001b[38;5;241m.\u001b[39mdtype)\n",
      "File \u001b[1;32m~\\AppData\\Local\\Programs\\Python\\Python310\\lib\\site-packages\\sklearn\\base.py:581\u001b[0m, in \u001b[0;36mBaseEstimator._validate_data\u001b[1;34m(self, X, y, reset, validate_separately, **check_params)\u001b[0m\n\u001b[0;32m    579\u001b[0m         y \u001b[38;5;241m=\u001b[39m check_array(y, \u001b[38;5;241m*\u001b[39m\u001b[38;5;241m*\u001b[39mcheck_y_params)\n\u001b[0;32m    580\u001b[0m     \u001b[38;5;28;01melse\u001b[39;00m:\n\u001b[1;32m--> 581\u001b[0m         X, y \u001b[38;5;241m=\u001b[39m check_X_y(X, y, \u001b[38;5;241m*\u001b[39m\u001b[38;5;241m*\u001b[39mcheck_params)\n\u001b[0;32m    582\u001b[0m     out \u001b[38;5;241m=\u001b[39m X, y\n\u001b[0;32m    584\u001b[0m \u001b[38;5;28;01mif\u001b[39;00m \u001b[38;5;129;01mnot\u001b[39;00m no_val_X \u001b[38;5;129;01mand\u001b[39;00m check_params\u001b[38;5;241m.\u001b[39mget(\u001b[38;5;124m\"\u001b[39m\u001b[38;5;124mensure_2d\u001b[39m\u001b[38;5;124m\"\u001b[39m, \u001b[38;5;28;01mTrue\u001b[39;00m):\n",
      "File \u001b[1;32m~\\AppData\\Local\\Programs\\Python\\Python310\\lib\\site-packages\\sklearn\\utils\\validation.py:964\u001b[0m, in \u001b[0;36mcheck_X_y\u001b[1;34m(X, y, accept_sparse, accept_large_sparse, dtype, order, copy, force_all_finite, ensure_2d, allow_nd, multi_output, ensure_min_samples, ensure_min_features, y_numeric, estimator)\u001b[0m\n\u001b[0;32m    961\u001b[0m \u001b[38;5;28;01mif\u001b[39;00m y \u001b[38;5;129;01mis\u001b[39;00m \u001b[38;5;28;01mNone\u001b[39;00m:\n\u001b[0;32m    962\u001b[0m     \u001b[38;5;28;01mraise\u001b[39;00m \u001b[38;5;167;01mValueError\u001b[39;00m(\u001b[38;5;124m\"\u001b[39m\u001b[38;5;124my cannot be None\u001b[39m\u001b[38;5;124m\"\u001b[39m)\n\u001b[1;32m--> 964\u001b[0m X \u001b[38;5;241m=\u001b[39m \u001b[43mcheck_array\u001b[49m\u001b[43m(\u001b[49m\n\u001b[0;32m    965\u001b[0m \u001b[43m    \u001b[49m\u001b[43mX\u001b[49m\u001b[43m,\u001b[49m\n\u001b[0;32m    966\u001b[0m \u001b[43m    \u001b[49m\u001b[43maccept_sparse\u001b[49m\u001b[38;5;241;43m=\u001b[39;49m\u001b[43maccept_sparse\u001b[49m\u001b[43m,\u001b[49m\n\u001b[0;32m    967\u001b[0m \u001b[43m    \u001b[49m\u001b[43maccept_large_sparse\u001b[49m\u001b[38;5;241;43m=\u001b[39;49m\u001b[43maccept_large_sparse\u001b[49m\u001b[43m,\u001b[49m\n\u001b[0;32m    968\u001b[0m \u001b[43m    \u001b[49m\u001b[43mdtype\u001b[49m\u001b[38;5;241;43m=\u001b[39;49m\u001b[43mdtype\u001b[49m\u001b[43m,\u001b[49m\n\u001b[0;32m    969\u001b[0m \u001b[43m    \u001b[49m\u001b[43morder\u001b[49m\u001b[38;5;241;43m=\u001b[39;49m\u001b[43morder\u001b[49m\u001b[43m,\u001b[49m\n\u001b[0;32m    970\u001b[0m \u001b[43m    \u001b[49m\u001b[43mcopy\u001b[49m\u001b[38;5;241;43m=\u001b[39;49m\u001b[43mcopy\u001b[49m\u001b[43m,\u001b[49m\n\u001b[0;32m    971\u001b[0m \u001b[43m    \u001b[49m\u001b[43mforce_all_finite\u001b[49m\u001b[38;5;241;43m=\u001b[39;49m\u001b[43mforce_all_finite\u001b[49m\u001b[43m,\u001b[49m\n\u001b[0;32m    972\u001b[0m \u001b[43m    \u001b[49m\u001b[43mensure_2d\u001b[49m\u001b[38;5;241;43m=\u001b[39;49m\u001b[43mensure_2d\u001b[49m\u001b[43m,\u001b[49m\n\u001b[0;32m    973\u001b[0m \u001b[43m    \u001b[49m\u001b[43mallow_nd\u001b[49m\u001b[38;5;241;43m=\u001b[39;49m\u001b[43mallow_nd\u001b[49m\u001b[43m,\u001b[49m\n\u001b[0;32m    974\u001b[0m \u001b[43m    \u001b[49m\u001b[43mensure_min_samples\u001b[49m\u001b[38;5;241;43m=\u001b[39;49m\u001b[43mensure_min_samples\u001b[49m\u001b[43m,\u001b[49m\n\u001b[0;32m    975\u001b[0m \u001b[43m    \u001b[49m\u001b[43mensure_min_features\u001b[49m\u001b[38;5;241;43m=\u001b[39;49m\u001b[43mensure_min_features\u001b[49m\u001b[43m,\u001b[49m\n\u001b[0;32m    976\u001b[0m \u001b[43m    \u001b[49m\u001b[43mestimator\u001b[49m\u001b[38;5;241;43m=\u001b[39;49m\u001b[43mestimator\u001b[49m\u001b[43m,\u001b[49m\n\u001b[0;32m    977\u001b[0m \u001b[43m\u001b[49m\u001b[43m)\u001b[49m\n\u001b[0;32m    979\u001b[0m y \u001b[38;5;241m=\u001b[39m _check_y(y, multi_output\u001b[38;5;241m=\u001b[39mmulti_output, y_numeric\u001b[38;5;241m=\u001b[39my_numeric)\n\u001b[0;32m    981\u001b[0m check_consistent_length(X, y)\n",
      "File \u001b[1;32m~\\AppData\\Local\\Programs\\Python\\Python310\\lib\\site-packages\\sklearn\\utils\\validation.py:769\u001b[0m, in \u001b[0;36mcheck_array\u001b[1;34m(array, accept_sparse, accept_large_sparse, dtype, order, copy, force_all_finite, ensure_2d, allow_nd, ensure_min_samples, ensure_min_features, estimator)\u001b[0m\n\u001b[0;32m    767\u001b[0m     \u001b[38;5;66;03m# If input is 1D raise error\u001b[39;00m\n\u001b[0;32m    768\u001b[0m     \u001b[38;5;28;01mif\u001b[39;00m array\u001b[38;5;241m.\u001b[39mndim \u001b[38;5;241m==\u001b[39m \u001b[38;5;241m1\u001b[39m:\n\u001b[1;32m--> 769\u001b[0m         \u001b[38;5;28;01mraise\u001b[39;00m \u001b[38;5;167;01mValueError\u001b[39;00m(\n\u001b[0;32m    770\u001b[0m             \u001b[38;5;124m\"\u001b[39m\u001b[38;5;124mExpected 2D array, got 1D array instead:\u001b[39m\u001b[38;5;130;01m\\n\u001b[39;00m\u001b[38;5;124marray=\u001b[39m\u001b[38;5;132;01m{}\u001b[39;00m\u001b[38;5;124m.\u001b[39m\u001b[38;5;130;01m\\n\u001b[39;00m\u001b[38;5;124m\"\u001b[39m\n\u001b[0;32m    771\u001b[0m             \u001b[38;5;124m\"\u001b[39m\u001b[38;5;124mReshape your data either using array.reshape(-1, 1) if \u001b[39m\u001b[38;5;124m\"\u001b[39m\n\u001b[0;32m    772\u001b[0m             \u001b[38;5;124m\"\u001b[39m\u001b[38;5;124myour data has a single feature or array.reshape(1, -1) \u001b[39m\u001b[38;5;124m\"\u001b[39m\n\u001b[0;32m    773\u001b[0m             \u001b[38;5;124m\"\u001b[39m\u001b[38;5;124mif it contains a single sample.\u001b[39m\u001b[38;5;124m\"\u001b[39m\u001b[38;5;241m.\u001b[39mformat(array)\n\u001b[0;32m    774\u001b[0m         )\n\u001b[0;32m    776\u001b[0m \u001b[38;5;66;03m# make sure we actually converted to numeric:\u001b[39;00m\n\u001b[0;32m    777\u001b[0m \u001b[38;5;28;01mif\u001b[39;00m dtype_numeric \u001b[38;5;129;01mand\u001b[39;00m array\u001b[38;5;241m.\u001b[39mdtype\u001b[38;5;241m.\u001b[39mkind \u001b[38;5;129;01min\u001b[39;00m \u001b[38;5;124m\"\u001b[39m\u001b[38;5;124mOUSV\u001b[39m\u001b[38;5;124m\"\u001b[39m:\n",
      "\u001b[1;31mValueError\u001b[0m: Expected 2D array, got 1D array instead:\narray=[ 62  37  67  87  30  65 103  42  99  60  58  38  39  23  30  58  63  40\n  54  54  43  69  62  54  39  74  63  25  67  78  77  54  46  54  16  19\n  81  29  23  28  76  40  86  16 103  63  18  20  54  19  87  71  21  62\n  71  44  99 113  97  46  47  37  24  49  43  63  70  87  65  20  49  60\n  78 137  93  61  60  59  34  33  81  60  78  78  19  87  79  19  77  62\n  85  25  44  73  21  25  17  77  38  24  15  85  54  43  65  33  60 103\n  78  93  60  33  87  71  46  62  37  47  30  77  67  43  81  88  63  65\n  54  70  65  57  88  54  98  72  63  28  62  63  87  74  64  62 113  20\n  71  20  19  77  60  20  69 103  76  57  78 126  63  87  62  57  77  87\n  30  60  21  19  88  40  75  39  48  78  37  46  40  78  73 120  28  60\n  85  60  65  97  72 101  63  54  64 120  87  20  30  50  87  19  25  54\n  61 137  54  46  69  48  57  77  73  39  25  44  54  19  71 103  63  54\n  54  60  46  88  57  67  28  60  76  74  57  58  73  63  69  46  59  78\n  28  49  20  63  43  50  74  69  38  71  62  44  33  39  97  18  38  75\n 126  47  73  42  28  42  60  87  60  62  38  73  78  65 137  59  16  70\n  72 113  47  77  71  78  46  18  86  65  38  58  71  38  34  63  79  93\n  23  21  48  78  78  48  50  17  62  42  63  54  60  48  54  54  75  20\n  87  98  37  64  33  19 113  60  87 103  69  74 113 113  64  33  23  40\n  65  23  33  65  40  40  48  30  99  86  67  40 137  76  42  15  81  19\n  60  97  77 101  18  73  47  48  62  33  54  43  88  76  49  29 126  40\n  28  54  46  19  71  17 137  70  65  47  44  42  58  18  78  48  28  71\n  75  71  63  62  78 103  15  37  88  33  16  21  97  40  46  70  67  18\n  21  87  78  78  54  65  93  18  78  39  43  34  28  62  46  77  20  33\n  77  60  78  78  98  59  71  46  54  47  62  86  17  78  64  71  78 103\n  19  48  48  34  78  76  71  25  57  61  64  62  73  29  33  58  64  78\n  60  54  21  60  48  59  97  86  20  62  33  43  19  33  34  25  88  34\n  43  62 101  78  63  38 103  65  44  78  28  54  65  71  48  58  70  20\n  78  54  74  67  15  29  44  25  63  54  58 120  65  93  28  98  50 101\n  24  63  78  62  46 103  59  78  99  49  88  71  57  40  21  78  15  65\n  97  19  73  23  43  78  40  43  54  57  34  67  24  54  72  39  48  38\n 103  76  60  25  39  78 137  87  69  58  93  28  85  63  85  16  20  16\n  38  16  48  93  49  78  78  87  40  50  71  37  79  21  65  87  88  39\n  29  93  19  88  67  28  70  85  54  63  42  71  43  78  46  67  78  98\n  77  54  46  67  54  64  39  61  78  88  47  78  87  48  57  78  78  28\n  81  77  19  25  88  25  54  16  78  29  65  87  78  62  86  62  54  62\n  77  63  62  54  49  76  60  65  33  73  93  18  54  78  54  88 120  78\n  23  23  60  87  62  97  50  33  50  17  39  44  19  29  33  60  43  25\n  60  33  37  39  54  67  71  86  78  39  39  78  60  48  88  71  65  54\n  73  15  16 103  24  48  78  33  72  87  79  20  54  67  77  70  78  29\n  54  50 103  49  85  63  28  79  34  17  21  19  30  18  63  60  60  62\n 126  17  43  73  87  59  73  78  44  79  43  67  20  87  39 113  77  21\n  49  39  33  54  20  50  79  74  17  38  61  81  28  43  78  62  30  60\n  75 103  59  48  59  75  39  43  40  72  29  93  46  30  46  88  98  72\n  88  18  54  77  78  37  48  85  99  23  24  48 103  73  78  67  54  43\n  43 103  71  87  62  54  48  48  15  44  77  65  60  78  20  71  46  33\n  48  85  73  24  54  99  59  28  73  71  23  86 120  67  88  75].\nReshape your data either using array.reshape(-1, 1) if your data has a single feature or array.reshape(1, -1) if it contains a single sample."
     ]
    }
   ],
   "source": [
    "model.fit(x_train,y_train)"
   ]
  },
  {
   "cell_type": "code",
   "execution_count": 51,
   "id": "24a24317",
   "metadata": {},
   "outputs": [],
   "source": [
    "def convert(lst):\n",
    "    res_dct = {lst[i]: lst[i+1]}\n",
    "    return res_dct"
   ]
  },
  {
   "cell_type": "code",
   "execution_count": 52,
   "id": "196fb962",
   "metadata": {
    "scrolled": true
   },
   "outputs": [
    {
     "ename": "TypeError",
     "evalue": "list indices must be integers or slices, not str",
     "output_type": "error",
     "traceback": [
      "\u001b[1;31m---------------------------------------------------------------------------\u001b[0m",
      "\u001b[1;31mTypeError\u001b[0m                                 Traceback (most recent call last)",
      "Input \u001b[1;32mIn [52]\u001b[0m, in \u001b[0;36m<cell line: 1>\u001b[1;34m()\u001b[0m\n\u001b[1;32m----> 1\u001b[0m \u001b[43mconvert\u001b[49m\u001b[43m(\u001b[49m\u001b[43mlst\u001b[49m\u001b[43m)\u001b[49m\n",
      "Input \u001b[1;32mIn [51]\u001b[0m, in \u001b[0;36mconvert\u001b[1;34m(lst)\u001b[0m\n\u001b[0;32m      1\u001b[0m \u001b[38;5;28;01mdef\u001b[39;00m \u001b[38;5;21mconvert\u001b[39m(lst):\n\u001b[1;32m----> 2\u001b[0m     res_dct \u001b[38;5;241m=\u001b[39m {\u001b[43mlst\u001b[49m\u001b[43m[\u001b[49m\u001b[43mi\u001b[49m\u001b[43m]\u001b[49m: lst[i\u001b[38;5;241m+\u001b[39m\u001b[38;5;241m1\u001b[39m]}\n\u001b[0;32m      3\u001b[0m     \u001b[38;5;28;01mreturn\u001b[39;00m res_dct\n",
      "\u001b[1;31mTypeError\u001b[0m: list indices must be integers or slices, not str"
     ]
    }
   ],
   "source": [
    "convert(lst)"
   ]
  },
  {
   "cell_type": "code",
   "execution_count": 81,
   "id": "c171d7d6",
   "metadata": {},
   "outputs": [
    {
     "data": {
      "text/html": [
       "<div>\n",
       "<style scoped>\n",
       "    .dataframe tbody tr th:only-of-type {\n",
       "        vertical-align: middle;\n",
       "    }\n",
       "\n",
       "    .dataframe tbody tr th {\n",
       "        vertical-align: top;\n",
       "    }\n",
       "\n",
       "    .dataframe thead th {\n",
       "        text-align: right;\n",
       "    }\n",
       "</style>\n",
       "<table border=\"1\" class=\"dataframe\">\n",
       "  <thead>\n",
       "    <tr style=\"text-align: right;\">\n",
       "      <th></th>\n",
       "      <th>CustomerID</th>\n",
       "      <th>Gender</th>\n",
       "      <th>Age</th>\n",
       "      <th>Annual Income (k$)</th>\n",
       "      <th>Spending Score (1-100)</th>\n",
       "      <th>City</th>\n",
       "    </tr>\n",
       "  </thead>\n",
       "  <tbody>\n",
       "    <tr>\n",
       "      <th>106</th>\n",
       "      <td>107</td>\n",
       "      <td>Female</td>\n",
       "      <td>66</td>\n",
       "      <td>63</td>\n",
       "      <td>50.0</td>\n",
       "      <td>Seattle</td>\n",
       "    </tr>\n",
       "    <tr>\n",
       "      <th>746</th>\n",
       "      <td>747</td>\n",
       "      <td>Male</td>\n",
       "      <td>37</td>\n",
       "      <td>77</td>\n",
       "      <td>75.0</td>\n",
       "      <td>Los Angeles.</td>\n",
       "    </tr>\n",
       "    <tr>\n",
       "      <th>459</th>\n",
       "      <td>460</td>\n",
       "      <td>Male</td>\n",
       "      <td>50</td>\n",
       "      <td>46</td>\n",
       "      <td>16.0</td>\n",
       "      <td>Houston.</td>\n",
       "    </tr>\n",
       "    <tr>\n",
       "      <th>988</th>\n",
       "      <td>989</td>\n",
       "      <td>Female</td>\n",
       "      <td>26</td>\n",
       "      <td>103</td>\n",
       "      <td>0.0</td>\n",
       "      <td>San Diego</td>\n",
       "    </tr>\n",
       "    <tr>\n",
       "      <th>712</th>\n",
       "      <td>713</td>\n",
       "      <td>Female</td>\n",
       "      <td>40</td>\n",
       "      <td>64</td>\n",
       "      <td>76.0</td>\n",
       "      <td>Chicago.</td>\n",
       "    </tr>\n",
       "    <tr>\n",
       "      <th>878</th>\n",
       "      <td>879</td>\n",
       "      <td>Female</td>\n",
       "      <td>45</td>\n",
       "      <td>54</td>\n",
       "      <td>75.0</td>\n",
       "      <td>Chicago.</td>\n",
       "    </tr>\n",
       "    <tr>\n",
       "      <th>946</th>\n",
       "      <td>947</td>\n",
       "      <td>Male</td>\n",
       "      <td>19</td>\n",
       "      <td>77</td>\n",
       "      <td>0.0</td>\n",
       "      <td>Seattle</td>\n",
       "    </tr>\n",
       "    <tr>\n",
       "      <th>1018</th>\n",
       "      <td>1019</td>\n",
       "      <td>Male</td>\n",
       "      <td>31</td>\n",
       "      <td>23</td>\n",
       "      <td>0.0</td>\n",
       "      <td>Chicago.</td>\n",
       "    </tr>\n",
       "    <tr>\n",
       "      <th>204</th>\n",
       "      <td>205</td>\n",
       "      <td>Female</td>\n",
       "      <td>24</td>\n",
       "      <td>17</td>\n",
       "      <td>0.0</td>\n",
       "      <td>Houston.</td>\n",
       "    </tr>\n",
       "    <tr>\n",
       "      <th>850</th>\n",
       "      <td>851</td>\n",
       "      <td>Female</td>\n",
       "      <td>49</td>\n",
       "      <td>42</td>\n",
       "      <td>87.0</td>\n",
       "      <td>Seattle</td>\n",
       "    </tr>\n",
       "    <tr>\n",
       "      <th>786</th>\n",
       "      <td>787</td>\n",
       "      <td>Female</td>\n",
       "      <td>45</td>\n",
       "      <td>101</td>\n",
       "      <td>42.0</td>\n",
       "      <td>San Antonio.</td>\n",
       "    </tr>\n",
       "    <tr>\n",
       "      <th>945</th>\n",
       "      <td>946</td>\n",
       "      <td>Male</td>\n",
       "      <td>70</td>\n",
       "      <td>77</td>\n",
       "      <td>0.0</td>\n",
       "      <td>New York</td>\n",
       "    </tr>\n",
       "    <tr>\n",
       "      <th>1009</th>\n",
       "      <td>1010</td>\n",
       "      <td>Female</td>\n",
       "      <td>23</td>\n",
       "      <td>19</td>\n",
       "      <td>0.0</td>\n",
       "      <td>Houston.</td>\n",
       "    </tr>\n",
       "    <tr>\n",
       "      <th>673</th>\n",
       "      <td>674</td>\n",
       "      <td>Female</td>\n",
       "      <td>46</td>\n",
       "      <td>50</td>\n",
       "      <td>20.0</td>\n",
       "      <td>San Diego</td>\n",
       "    </tr>\n",
       "    <tr>\n",
       "      <th>752</th>\n",
       "      <td>753</td>\n",
       "      <td>Female</td>\n",
       "      <td>19</td>\n",
       "      <td>78</td>\n",
       "      <td>65.0</td>\n",
       "      <td>San Diego</td>\n",
       "    </tr>\n",
       "    <tr>\n",
       "      <th>351</th>\n",
       "      <td>352</td>\n",
       "      <td>Male</td>\n",
       "      <td>51</td>\n",
       "      <td>78</td>\n",
       "      <td>55.0</td>\n",
       "      <td>Seattle</td>\n",
       "    </tr>\n",
       "    <tr>\n",
       "      <th>134</th>\n",
       "      <td>135</td>\n",
       "      <td>Male</td>\n",
       "      <td>20</td>\n",
       "      <td>73</td>\n",
       "      <td>5.0</td>\n",
       "      <td>Houston.</td>\n",
       "    </tr>\n",
       "    <tr>\n",
       "      <th>1047</th>\n",
       "      <td>1048</td>\n",
       "      <td>Female</td>\n",
       "      <td>19</td>\n",
       "      <td>40</td>\n",
       "      <td>72.0</td>\n",
       "      <td>San Antonio.</td>\n",
       "    </tr>\n",
       "    <tr>\n",
       "      <th>384</th>\n",
       "      <td>385</td>\n",
       "      <td>Female</td>\n",
       "      <td>50</td>\n",
       "      <td>99</td>\n",
       "      <td>42.0</td>\n",
       "      <td>Washington</td>\n",
       "    </tr>\n",
       "    <tr>\n",
       "      <th>166</th>\n",
       "      <td>167</td>\n",
       "      <td>Male</td>\n",
       "      <td>42</td>\n",
       "      <td>86</td>\n",
       "      <td>20.0</td>\n",
       "      <td>Washington</td>\n",
       "    </tr>\n",
       "  </tbody>\n",
       "</table>\n",
       "</div>"
      ],
      "text/plain": [
       "      CustomerID  Gender  Age  Annual Income (k$)  Spending Score (1-100)  \\\n",
       "106          107  Female   66                  63                    50.0   \n",
       "746          747    Male   37                  77                    75.0   \n",
       "459          460    Male   50                  46                    16.0   \n",
       "988          989  Female   26                 103                     0.0   \n",
       "712          713  Female   40                  64                    76.0   \n",
       "878          879  Female   45                  54                    75.0   \n",
       "946          947    Male   19                  77                     0.0   \n",
       "1018        1019    Male   31                  23                     0.0   \n",
       "204          205  Female   24                  17                     0.0   \n",
       "850          851  Female   49                  42                    87.0   \n",
       "786          787  Female   45                 101                    42.0   \n",
       "945          946    Male   70                  77                     0.0   \n",
       "1009        1010  Female   23                  19                     0.0   \n",
       "673          674  Female   46                  50                    20.0   \n",
       "752          753  Female   19                  78                    65.0   \n",
       "351          352    Male   51                  78                    55.0   \n",
       "134          135    Male   20                  73                     5.0   \n",
       "1047        1048  Female   19                  40                    72.0   \n",
       "384          385  Female   50                  99                    42.0   \n",
       "166          167    Male   42                  86                    20.0   \n",
       "\n",
       "              City  \n",
       "106        Seattle  \n",
       "746   Los Angeles.  \n",
       "459       Houston.  \n",
       "988      San Diego  \n",
       "712       Chicago.  \n",
       "878       Chicago.  \n",
       "946        Seattle  \n",
       "1018      Chicago.  \n",
       "204       Houston.  \n",
       "850        Seattle  \n",
       "786   San Antonio.  \n",
       "945       New York  \n",
       "1009      Houston.  \n",
       "673      San Diego  \n",
       "752      San Diego  \n",
       "351        Seattle  \n",
       "134       Houston.  \n",
       "1047  San Antonio.  \n",
       "384     Washington  \n",
       "166     Washington  "
      ]
     },
     "execution_count": 81,
     "metadata": {},
     "output_type": "execute_result"
    }
   ],
   "source": [
    "df.sample(20)"
   ]
  },
  {
   "cell_type": "code",
   "execution_count": null,
   "id": "acec663a",
   "metadata": {},
   "outputs": [],
   "source": []
  }
 ],
 "metadata": {
  "kernelspec": {
   "display_name": "Python 3 (ipykernel)",
   "language": "python",
   "name": "python3"
  },
  "language_info": {
   "codemirror_mode": {
    "name": "ipython",
    "version": 3
   },
   "file_extension": ".py",
   "mimetype": "text/x-python",
   "name": "python",
   "nbconvert_exporter": "python",
   "pygments_lexer": "ipython3",
   "version": "3.10.3"
  }
 },
 "nbformat": 4,
 "nbformat_minor": 5
}
